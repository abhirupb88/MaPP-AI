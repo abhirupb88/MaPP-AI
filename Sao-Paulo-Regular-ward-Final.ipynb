{
 "cells": [
  {
   "cell_type": "code",
   "execution_count": null,
   "metadata": {},
   "outputs": [],
   "source": [
    "import pandas as pd\n",
    "dir_path = \"F:\\Oxford_research_projects\\Research Collaborations\\Team_MAPP\"\n",
    "file_path = \"%s\\EXTENDED_Einstein_Data4u_Sao_Paulo.csv\" % (dir_path)\n",
    "data = pd.read_csv(file_path)\n",
    "# data.describe()\n",
    "\n",
    "data"
   ]
  },
  {
   "cell_type": "code",
   "execution_count": null,
   "metadata": {},
   "outputs": [],
   "source": [
    "is_regular =  data['Patient addmited to regular ward (1=yes, 0=no)']==1\n",
    "data_regular = data[is_regular]\n",
    "data_regular"
   ]
  },
  {
   "cell_type": "code",
   "execution_count": null,
   "metadata": {},
   "outputs": [],
   "source": [
    "label = data_regular.loc[:,'SARS-Cov-2 exam result']\n",
    "label = label.replace(to_replace=['positive', 'negative'], value=[1, 0])\n",
    "\n",
    "subset = data_regular.iloc[:,list(range(6,20))]\n",
    "subset['label'] = label\n",
    "subset"
   ]
  },
  {
   "cell_type": "code",
   "execution_count": null,
   "metadata": {},
   "outputs": [],
   "source": [
    "subset = subset.dropna()\n",
    "subset"
   ]
  },
  {
   "cell_type": "code",
   "execution_count": null,
   "metadata": {},
   "outputs": [],
   "source": [
    "y = subset.iloc[:,14]\n",
    "x = subset.iloc[:,:14]\n",
    "xN = x.to_numpy()\n",
    "yN = y.to_numpy()\n",
    "\n",
    "n_samples, n_features = xN.shape\n",
    "class_names = ['Covid -ve', 'Covid +ve']"
   ]
  },
  {
   "cell_type": "code",
   "execution_count": null,
   "metadata": {},
   "outputs": [],
   "source": [
    "import numpy as np\n",
    "from scipy import interp\n",
    "import matplotlib.pyplot as plt\n",
    "\n",
    "from sklearn.metrics import roc_curve, auc\n",
    "from sklearn.model_selection import StratifiedKFold\n",
    "from sklearn.model_selection import train_test_split\n",
    "\n",
    "import tensorflow as tf\n",
    "from tensorflow import keras\n",
    "from tensorflow.keras.models import Sequential\n",
    "from tensorflow.keras.layers import Dense\n",
    "from tensorflow.keras import backend\n",
    "\n",
    "import itertools\n",
    "from sklearn.metrics import confusion_matrix\n",
    "from imblearn.metrics import sensitivity_specificity_support\n",
    "\n",
    "classifier = Sequential()\n",
    "classifier.add(Dense(units = 16, activation = 'relu', input_dim = n_features))\n",
    "classifier.add(Dense(units = 8, activation = 'relu'))\n",
    "classifier.add(Dense(units = 6, activation = 'relu'))\n",
    "classifier.add(Dense(units = 1, activation = 'sigmoid'))\n",
    "classifier.compile(optimizer = 'adam', loss = 'binary_crossentropy', metrics=[\"accuracy\"])\n",
    "\n",
    "def plot_confusion_matrix(cm, classes,\n",
    "                          normalize=False,\n",
    "                          title='Confusion matrix',\n",
    "                          cmap=plt.cm.Blues):\n",
    "    \"\"\"\n",
    "    This function prints and plots the confusion matrix.\n",
    "    Normalization can be applied by setting `normalize=True`.\n",
    "    \"\"\"\n",
    "    plt.imshow(cm, interpolation='nearest', cmap=cmap)\n",
    "    plt.title(title)\n",
    "    plt.colorbar()\n",
    "    tick_marks = np.arange(len(classes))\n",
    "    plt.xticks(tick_marks, classes, rotation=45)\n",
    "    plt.yticks(tick_marks, classes)\n",
    "\n",
    "    if normalize:\n",
    "        cm = cm.astype('float') / cm.sum(axis=1)[:, np.newaxis]\n",
    "        print(\"Normalized confusion matrix\")\n",
    "    else:\n",
    "        print('Confusion matrix, without normalization')\n",
    "\n",
    "    print(cm)\n",
    "\n",
    "    thresh = cm.max() / 2.\n",
    "    for i, j in itertools.product(range(cm.shape[0]), range(cm.shape[1])):\n",
    "        plt.text(j, i, \"{:.3f}\".format(cm[i, j]),\n",
    "                 horizontalalignment=\"center\",\n",
    "                 color=\"white\" if cm[i, j] > thresh else \"black\")\n",
    "\n",
    "    plt.tight_layout()\n",
    "    plt.ylabel('True label')\n",
    "    plt.xlabel('Predicted label')"
   ]
  },
  {
   "cell_type": "code",
   "execution_count": null,
   "metadata": {},
   "outputs": [],
   "source": [
    "print(__doc__)\n",
    "import random\n",
    "seed = 50\n",
    "random.seed(seed)\n",
    "cv = StratifiedKFold(n_splits=10)\n",
    "\n",
    "from imblearn.over_sampling import SMOTE\n",
    "oversample = SMOTE()\n",
    "\n",
    "import os\n",
    "os.mkdir('Regular-seed-%d' % (seed))\n",
    "\n",
    "tprs = []\n",
    "aucs = []\n",
    "mean_fpr = np.linspace(0, 1, 100)\n",
    "fig, ax = plt.subplots()\n",
    "result_acc = []\n",
    "result_sens = []\n",
    "result_spec = []\n",
    "for i, (train, test) in enumerate(cv.split(xN, yN)):\n",
    "    classifier = Sequential()\n",
    "    classifier.add(Dense(units = 16, activation = 'relu', input_dim = n_features))\n",
    "    classifier.add(Dense(units = 8, activation = 'relu'))\n",
    "    classifier.add(Dense(units = 6, activation = 'relu'))\n",
    "    classifier.add(Dense(units = 1, activation = 'sigmoid'))\n",
    "    classifier.compile(optimizer = 'adam', loss = 'binary_crossentropy', metrics=[\"accuracy\"])\n",
    "    \n",
    "    xTrain = xN[train];\n",
    "    yTrain = yN[train];\n",
    "    xTrain, yTrain = oversample.fit_resample(xTrain, yTrain)\n",
    "    \n",
    "    classifier.fit(xN[train], yN[train], batch_size = 1, epochs = 50)\n",
    "    fpr, tpr, threshold = roc_curve(yN[test], classifier.predict(xN[test]))\n",
    "    roc_auc = auc(fpr, tpr)\n",
    "    test_loss, test_acc = classifier.evaluate(xN[test], yN[test])\n",
    "    ax.plot(fpr, tpr, label = 'ROC fold %d (AUC = %0.2f)'.format(i) %(i, roc_auc))\n",
    "    interp_tpr = interp(mean_fpr, fpr, tpr)\n",
    "    interp_tpr[0] = 0.0\n",
    "    tprs.append(interp_tpr)\n",
    "    aucs.append(roc_auc)\n",
    "    result_acc = np.append(result_acc, test_acc)\n",
    "    \n",
    "    y_pred = classifier.predict(xN[test])\n",
    "    y_pred = [ 1 if y>=0.5 else 0 for y in y_pred ]\n",
    "    cnf_matrix = confusion_matrix(yN[test], y_pred)\n",
    "    np.set_printoptions(precision=2)\n",
    "    \n",
    "    plt.figure()\n",
    "    plot_confusion_matrix(cnf_matrix, classes=class_names, normalize=True, title='Normalized confusion matrix')\n",
    "    plt.savefig('Regular-seed-%d\\smote-nh-cf-it%d.pdf' % (seed,i),bbox_inches='tight')\n",
    "    sens, spec, support = sensitivity_specificity_support(yN[test], y_pred)\n",
    "    result_sens = np.append(result_sens, sens[0])\n",
    "    result_spec = np.append(result_spec, spec[0])\n",
    "\n",
    "ax.plot([0, 1], [0, 1], linestyle='--', lw=2, color='r', label='Chance', alpha=.8)\n",
    "mean_tpr = np.mean(tprs, axis=0)\n",
    "mean_tpr[-1] = 1.0\n",
    "mean_auc = auc(mean_fpr, mean_tpr)\n",
    "std_auc = np.std(aucs)\n",
    "ax.plot(mean_fpr, mean_tpr, color='b', label=r'Mean ROC (AUC = %0.2f $\\pm$ %0.2f)' % (mean_auc, std_auc), lw=2, alpha=.8)\n",
    "\n",
    "std_tpr = np.std(tprs, axis=0)\n",
    "tprs_upper = np.minimum(mean_tpr + std_tpr, 1)\n",
    "tprs_lower = np.maximum(mean_tpr - std_tpr, 0)\n",
    "ax.fill_between(mean_fpr, tprs_lower, tprs_upper, color='grey', alpha=.2, label=r'$\\pm$ 1 std. dev.')\n",
    "\n",
    "ax.set(xlim=[-0.05, 1.05], ylim=[-0.05, 1.05], title=\"Receiver operating characteristic\")\n",
    "ax.legend(loc='center left', bbox_to_anchor=(1, 0.5))\n",
    "ax.figure.savefig('Regular-seed-%d\\smote-nh-roc.pdf' %(seed),bbox_inches='tight')\n"
   ]
  },
  {
   "cell_type": "code",
   "execution_count": null,
   "metadata": {
    "scrolled": true
   },
   "outputs": [],
   "source": [
    "np.mean (result_acc)"
   ]
  },
  {
   "cell_type": "code",
   "execution_count": null,
   "metadata": {},
   "outputs": [],
   "source": [
    "np.mean (result_sens)"
   ]
  },
  {
   "cell_type": "code",
   "execution_count": null,
   "metadata": {},
   "outputs": [],
   "source": [
    "np.mean (result_spec)"
   ]
  }
 ],
 "metadata": {
  "kernelspec": {
   "display_name": "Python 3",
   "language": "python",
   "name": "python3"
  },
  "language_info": {
   "codemirror_mode": {
    "name": "ipython",
    "version": 3
   },
   "file_extension": ".py",
   "mimetype": "text/x-python",
   "name": "python",
   "nbconvert_exporter": "python",
   "pygments_lexer": "ipython3",
   "version": "3.6.10"
  }
 },
 "nbformat": 4,
 "nbformat_minor": 2
}
